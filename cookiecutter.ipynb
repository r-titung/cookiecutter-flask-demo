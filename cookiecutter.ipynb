{
 "cells": [
  {
   "cell_type": "markdown",
   "metadata": {},
   "source": [
    "# Cookiecutter Installation"
   ]
  },
  {
   "cell_type": "markdown",
   "metadata": {},
   "source": [
    "Cookiecutter can be simply installed using pip\n",
    "```bash\n",
    "pip install cookiecutter\n",
    "```\n",
    "Or using conda\n",
    "```bash\n",
    "conda install -c conda-forge cookiecutter\n",
    "```\n",
    "Or homebrew in case of Mac OS\n",
    "```bash\n",
    "brew install cookiecutter\n",
    "``` "
   ]
  },
  {
   "cell_type": "markdown",
   "metadata": {},
   "source": [
    "## Usages\n",
    "Can be used both as python library or CLI app"
   ]
  },
  {
   "cell_type": "markdown",
   "metadata": {},
   "source": [
    "### Python Library"
   ]
  },
  {
   "cell_type": "markdown",
   "metadata": {},
   "source": [
    "#### Import cookiecutter"
   ]
  },
  {
   "cell_type": "code",
   "execution_count": null,
   "metadata": {
    "ExecuteTime": {
     "end_time": "2020-09-04T08:01:42.813063Z",
     "start_time": "2020-09-04T08:01:41.945091Z"
    }
   },
   "outputs": [],
   "source": [
    "from cookiecutter.main import cookiecutter"
   ]
  },
  {
   "cell_type": "markdown",
   "metadata": {
    "ExecuteTime": {
     "end_time": "2020-09-02T17:25:17.810169Z",
     "start_time": "2020-09-02T17:25:17.798530Z"
    }
   },
   "source": [
    "#### Create project from local template"
   ]
  },
  {
   "cell_type": "code",
   "execution_count": null,
   "metadata": {
    "ExecuteTime": {
     "end_time": "2020-09-04T08:02:51.545586Z",
     "start_time": "2020-09-04T08:02:36.781947Z"
    }
   },
   "outputs": [],
   "source": [
    "local_template_path = \"/path/to/cookiecutter-flask\"\n",
    "cookiecutter(local_template_path)"
   ]
  },
  {
   "cell_type": "markdown",
   "metadata": {},
   "source": [
    "#### Create project from git repo"
   ]
  },
  {
   "cell_type": "code",
   "execution_count": null,
   "metadata": {
    "ExecuteTime": {
     "end_time": "2020-09-04T08:05:14.571036Z",
     "start_time": "2020-09-04T08:04:52.838564Z"
    }
   },
   "outputs": [],
   "source": [
    "cookiecutter(\"https://github.com/r-titung/cookiecutter-flask-demo.git\")"
   ]
  },
  {
   "cell_type": "markdown",
   "metadata": {},
   "source": [
    "### Command Line Interface"
   ]
  },
  {
   "cell_type": "markdown",
   "metadata": {},
   "source": [
    "#### Create project from local template\n",
    "```bash\n",
    "cookiecutter /path/to/cookiecutter-flask\n",
    "```\n",
    "#### Create project from git repository\n",
    "```bash\n",
    "cookiecutter https://github.com/r-titung/cookiecutter-flask-demo.git\n",
    "cookiecutter gh:r-titung/cookiecutter-flask-demo\n",
    "```\n",
    "#### Create from saved template\n",
    "All the downloaded templates are saved in `/home/user_name/.cookiecutters/`\n",
    "```bash\n",
    "cookiecutter cookiecutter-flask-demo\n",
    "```"
   ]
  }
 ],
 "metadata": {
  "hide_input": false,
  "kernelspec": {
   "display_name": "Python 3",
   "language": "python",
   "name": "python3"
  },
  "language_info": {
   "codemirror_mode": {
    "name": "ipython",
    "version": 3
   },
   "file_extension": ".py",
   "mimetype": "text/x-python",
   "name": "python",
   "nbconvert_exporter": "python",
   "pygments_lexer": "ipython3",
   "version": "3.6.9"
  },
  "toc": {
   "base_numbering": 1,
   "nav_menu": {},
   "number_sections": true,
   "sideBar": true,
   "skip_h1_title": false,
   "title_cell": "Table of Contents",
   "title_sidebar": "Contents",
   "toc_cell": false,
   "toc_position": {},
   "toc_section_display": true,
   "toc_window_display": true
  },
  "varInspector": {
   "cols": {
    "lenName": 16,
    "lenType": 16,
    "lenVar": 40
   },
   "kernels_config": {
    "python": {
     "delete_cmd_postfix": "",
     "delete_cmd_prefix": "del ",
     "library": "var_list.py",
     "varRefreshCmd": "print(var_dic_list())"
    },
    "r": {
     "delete_cmd_postfix": ") ",
     "delete_cmd_prefix": "rm(",
     "library": "var_list.r",
     "varRefreshCmd": "cat(var_dic_list()) "
    }
   },
   "types_to_exclude": [
    "module",
    "function",
    "builtin_function_or_method",
    "instance",
    "_Feature"
   ],
   "window_display": false
  }
 },
 "nbformat": 4,
 "nbformat_minor": 4
}
